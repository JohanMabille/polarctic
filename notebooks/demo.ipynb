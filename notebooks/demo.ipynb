{
 "cells": [
  {
   "cell_type": "markdown",
   "id": "e1d22ab8-e1cd-476a-8906-517f8a56b747",
   "metadata": {},
   "source": [
    "## Preamble"
   ]
  },
  {
   "cell_type": "code",
   "execution_count": 1,
   "id": "21648986-1e02-4621-8576-4dbe28a78f7a",
   "metadata": {},
   "outputs": [],
   "source": [
    "import numpy as np\n",
    "import pandas as pd\n",
    "import polars as pl\n",
    "import pyarrow as pa\n",
    "import datetime as dt\n",
    "from arcticdb import Arctic, LibraryOptions, QueryBuilder, LazyDataFrame, OutputFormat\n",
    "from arcticdb.version_store.library import Library\n",
    "from arcticdb.version_store.processing import ExpressionNode\n",
    "from arcticdb_ext.version_store import OperationType\n",
    "from typing import Iterator"
   ]
  },
  {
   "cell_type": "code",
   "execution_count": 2,
   "id": "164ab646-4b1f-4e47-b304-e6c65bd8282b",
   "metadata": {},
   "outputs": [],
   "source": [
    "def print_table(table):\n",
    "    print(pl.from_arrow(table))"
   ]
  },
  {
   "cell_type": "markdown",
   "id": "f8df025d-00d8-4437-b532-f20922036cdd",
   "metadata": {},
   "source": [
    "## ArcticDB data"
   ]
  },
  {
   "cell_type": "code",
   "execution_count": 3,
   "id": "188ca4ae-094b-4c8c-a3b5-ba8a0ccb8f0b",
   "metadata": {},
   "outputs": [],
   "source": [
    "test_uri = \"lmdb://tmp/polars_integration\"\n",
    "test_lib_name = \"polars\"\n",
    "test_symbol = \"pls\"\n",
    "ac = Arctic(test_uri)"
   ]
  },
  {
   "cell_type": "code",
   "execution_count": 4,
   "id": "68cf2a89-2216-40c0-b812-899b7394f708",
   "metadata": {},
   "outputs": [],
   "source": [
    "ac.delete_library(test_lib_name)\n",
    "lib = ac.create_library(test_lib_name)"
   ]
  },
  {
   "cell_type": "code",
   "execution_count": 5,
   "id": "af004e7e-1c77-4da0-b272-f51a3d2e39e1",
   "metadata": {},
   "outputs": [
    {
     "data": {
      "text/html": [
       "<div>\n",
       "<style scoped>\n",
       "    .dataframe tbody tr th:only-of-type {\n",
       "        vertical-align: middle;\n",
       "    }\n",
       "\n",
       "    .dataframe tbody tr th {\n",
       "        vertical-align: top;\n",
       "    }\n",
       "\n",
       "    .dataframe thead th {\n",
       "        text-align: right;\n",
       "    }\n",
       "</style>\n",
       "<table border=\"1\" class=\"dataframe\">\n",
       "  <thead>\n",
       "    <tr style=\"text-align: right;\">\n",
       "      <th></th>\n",
       "      <th>col1</th>\n",
       "      <th>col2</th>\n",
       "    </tr>\n",
       "  </thead>\n",
       "  <tbody>\n",
       "    <tr>\n",
       "      <th>0</th>\n",
       "      <td>0</td>\n",
       "      <td>10.0</td>\n",
       "    </tr>\n",
       "    <tr>\n",
       "      <th>1</th>\n",
       "      <td>1</td>\n",
       "      <td>11.0</td>\n",
       "    </tr>\n",
       "    <tr>\n",
       "      <th>2</th>\n",
       "      <td>2</td>\n",
       "      <td>12.0</td>\n",
       "    </tr>\n",
       "    <tr>\n",
       "      <th>3</th>\n",
       "      <td>3</td>\n",
       "      <td>13.0</td>\n",
       "    </tr>\n",
       "    <tr>\n",
       "      <th>4</th>\n",
       "      <td>4</td>\n",
       "      <td>14.0</td>\n",
       "    </tr>\n",
       "    <tr>\n",
       "      <th>5</th>\n",
       "      <td>5</td>\n",
       "      <td>15.0</td>\n",
       "    </tr>\n",
       "    <tr>\n",
       "      <th>6</th>\n",
       "      <td>6</td>\n",
       "      <td>16.0</td>\n",
       "    </tr>\n",
       "    <tr>\n",
       "      <th>7</th>\n",
       "      <td>7</td>\n",
       "      <td>17.0</td>\n",
       "    </tr>\n",
       "    <tr>\n",
       "      <th>8</th>\n",
       "      <td>8</td>\n",
       "      <td>18.0</td>\n",
       "    </tr>\n",
       "    <tr>\n",
       "      <th>9</th>\n",
       "      <td>9</td>\n",
       "      <td>19.0</td>\n",
       "    </tr>\n",
       "  </tbody>\n",
       "</table>\n",
       "</div>"
      ],
      "text/plain": [
       "   col1  col2\n",
       "0     0  10.0\n",
       "1     1  11.0\n",
       "2     2  12.0\n",
       "3     3  13.0\n",
       "4     4  14.0\n",
       "5     5  15.0\n",
       "6     6  16.0\n",
       "7     7  17.0\n",
       "8     8  18.0\n",
       "9     9  19.0"
      ]
     },
     "execution_count": 5,
     "metadata": {},
     "output_type": "execute_result"
    }
   ],
   "source": [
    "df = pd.DataFrame({\"col1\": np.arange(10, dtype=np.int64), \"col2\": np.arange(10, 20, dtype=np.float64)})\n",
    "lib.write(test_symbol, df)\n",
    "df"
   ]
  },
  {
   "cell_type": "code",
   "execution_count": 6,
   "id": "e79d2121-cd84-40cc-adb7-8b4c900239ce",
   "metadata": {},
   "outputs": [],
   "source": [
    "lazy_frame = lib.read(test_symbol, output_format=OutputFormat.EXPERIMENTAL_ARROW, lazy = True)"
   ]
  },
  {
   "cell_type": "code",
   "execution_count": 7,
   "id": "b4072340-16b8-4307-9a98-848b34ff8519",
   "metadata": {},
   "outputs": [
    {
     "name": "stdout",
     "output_type": "stream",
     "text": [
      "shape: (10, 2)\n",
      "┌──────┬──────┐\n",
      "│ col1 ┆ col2 │\n",
      "│ ---  ┆ ---  │\n",
      "│ i64  ┆ f64  │\n",
      "╞══════╪══════╡\n",
      "│ 0    ┆ 10.0 │\n",
      "│ 1    ┆ 11.0 │\n",
      "│ 2    ┆ 12.0 │\n",
      "│ 3    ┆ 13.0 │\n",
      "│ 4    ┆ 14.0 │\n",
      "│ 5    ┆ 15.0 │\n",
      "│ 6    ┆ 16.0 │\n",
      "│ 7    ┆ 17.0 │\n",
      "│ 8    ┆ 18.0 │\n",
      "│ 9    ┆ 19.0 │\n",
      "└──────┴──────┘\n"
     ]
    }
   ],
   "source": [
    "print_table(lazy_frame.collect().data)"
   ]
  },
  {
   "cell_type": "code",
   "execution_count": 8,
   "id": "60ec27ba-f69c-4b0b-937f-e3036e4acf4d",
   "metadata": {},
   "outputs": [
    {
     "name": "stdout",
     "output_type": "stream",
     "text": [
      "shape: (5, 2)\n",
      "┌──────┬──────┐\n",
      "│ col1 ┆ col2 │\n",
      "│ ---  ┆ ---  │\n",
      "│ i64  ┆ f64  │\n",
      "╞══════╪══════╡\n",
      "│ 3    ┆ 13.0 │\n",
      "│ 4    ┆ 14.0 │\n",
      "│ 5    ┆ 15.0 │\n",
      "│ 6    ┆ 16.0 │\n",
      "│ 7    ┆ 17.0 │\n",
      "└──────┴──────┘\n"
     ]
    }
   ],
   "source": [
    "q = QueryBuilder()\n",
    "q = q[(q[\"col1\"] > 2) & (q[\"col2\"] < 18)]\n",
    "lazy_frame2 = lib.read(test_symbol, query_builder = q, output_format=OutputFormat.EXPERIMENTAL_ARROW, lazy = True)\n",
    "print_table(lazy_frame2.collect().data)"
   ]
  },
  {
   "cell_type": "markdown",
   "id": "e5a003d7-f7e4-44b2-a813-bd5f39562e2b",
   "metadata": {},
   "source": [
    "## Polars expression AST parser"
   ]
  },
  {
   "cell_type": "code",
   "execution_count": 9,
   "id": "e28845c4-f126-4d01-a9ad-3f0b870224be",
   "metadata": {},
   "outputs": [],
   "source": [
    "import ast\n",
    "import re\n",
    "from typing import Any, Optional\n",
    "\n",
    "\n",
    "class PolarsToArcticDBTranslator:\n",
    "    \"\"\"\n",
    "    Translates Polars expressions to ArcticDB QueryBuilder operations.\n",
    "    \n",
    "    Usage:\n",
    "        translator = PolarsToArcticDBTranslator()\n",
    "        qb = translator.translate(polars_expr, query_builder)\n",
    "    \"\"\"\n",
    "\n",
    "    def translate(self, polars_expr: str, query_builder: Any) -> Any:\n",
    "        \"\"\"\n",
    "        Translate a Polars expression string to ArcticDB QueryBuilder operations.\n",
    "        \n",
    "        Args:\n",
    "            polars_expr: String representation of Polars expression\n",
    "            query_builder: ArcticDB QueryBuilder instance\n",
    "            \n",
    "        Returns:\n",
    "            Modified QueryBuilder instance\n",
    "        \"\"\"\n",
    "        \n",
    "        # Clean the expression - remove surrounding brackets if present\n",
    "        expr = polars_expr.strip()\n",
    "        if expr.startswith('[') and expr.endswith(']'):\n",
    "            expr = expr[1:-1].strip()\n",
    "\n",
    "        expr = self._replace_square_brackets(expr)\n",
    "        \n",
    "        # Preprocess to handle Polars-specific notation like [dyn int: 2]\n",
    "        expr = self._preprocess_expression(expr)\n",
    "\n",
    "         # Parse the expression\n",
    "        try:\n",
    "            tree = ast.parse(expr, mode='eval')\n",
    "            expr_node = self._process_node(tree.body)\n",
    "        except SyntaxError as e:\n",
    "            raise ValueError(f\"Invalid Polars expression: {polars_expr}\") from e\n",
    "        \n",
    "        return query_builder[expr_node]\n",
    "        \n",
    "    def _replace_square_brackets(self, text: str) -> str:\n",
    "        while True:\n",
    "            close = text.rfind('])')\n",
    "            if close == -1:\n",
    "                break\n",
    "            open_ = text.rfind('([', 0, close)\n",
    "            if open_ == -1:\n",
    "                break\n",
    "            # Replace the matched ([...]) with (...)\n",
    "            text = text[:open_] + '(' + text[open_ + 2:close] + ')' + text[close + 2:]\n",
    "        return text\n",
    "    \n",
    "    def _preprocess_expression(self, expr: str) -> str:\n",
    "        \"\"\"\n",
    "        Preprocess Polars expression to handle special notation.\n",
    "        \n",
    "        Converts patterns like [dyn int: 2] to just the value (2).\n",
    "        \"\"\"\n",
    "        # Pattern to match [dyn type: value] or [lit type: value]\n",
    "        pattern = r'[\\[\\(](dyn|lit)\\s+\\w+:\\s*([^\\]\\)]+)[\\]\\)]'\n",
    "        \n",
    "        def replace_dynamic(match):\n",
    "            return match.group(2).strip()\n",
    "        \n",
    "        return re.sub(pattern, replace_dynamic, expr)\n",
    "\n",
    "    def _process_node(self, node: ast.AST) -> Any:\n",
    "        \"\"\"Process an AST node and apply corresponding ArcticDB operation.\"\"\"\n",
    "\n",
    "        node_type = type(node)\n",
    "        match node_type:\n",
    "            case ast.Call:\n",
    "                return self._process_call(node)\n",
    "            case ast.Attribute:\n",
    "                return self._process_attribute(node)\n",
    "            case ast.Name:\n",
    "                return node.id\n",
    "            case ast.Constant:\n",
    "                return node.value\n",
    "            case ast.Compare:\n",
    "                return self._process_compare(node)\n",
    "            case ast.BinOp:\n",
    "                return self._process_binop(node)\n",
    "            case ast.UnaryOp:\n",
    "                return self._process_unaryop(node)\n",
    "            #case ast.List:\n",
    "            #    return [self._process_node(elt) for elt in node.elts]\n",
    "            #case ast.Tuple:\n",
    "            #    return tuple(self._process_node(elt) for elt in node.elts)\n",
    "            case _:\n",
    "                raise NotImplementedError(f\"Node type {node_type.__name__} not supported\")\n",
    "\n",
    "    def _process_call(self, node: ast.Call) -> Any:\n",
    "        \"\"\"Process function calls (e.g., pl.col(), methods).\"\"\"\n",
    "\n",
    "        func_type = type(node.func)\n",
    "        match func_type:\n",
    "            case ast.Attribute:\n",
    "                # TODO: rework this\n",
    "                # Method call like pl.col('x').sum()\n",
    "                #obj = self._process_node(node.func.value)\n",
    "                #method = node.func.attr\n",
    "                #args = [self._process_node(arg) for arg in node.args]\n",
    "                #kwargs = {kw.arg: self._process_node(kw.value) for kw in node.keywords}\n",
    "                \n",
    "                #return self._apply_method(obj, method, args, kwargs)\n",
    "                raise NotImplementedError(f\"Node.func type ast.Attribute not supported\")\n",
    "            \n",
    "            case ast.Name:\n",
    "                # Function call like col('x')\n",
    "                func_name = node.func.id\n",
    "                args = [self._process_node(arg) for arg in node.args]\n",
    "                \n",
    "                if func_name == 'col':\n",
    "                    return ExpressionNode.column_ref(args[0]) if args else None\n",
    "            case _:\n",
    "                return None\n",
    "\n",
    "    def _process_attribute(self, node: ast.Attribute) -> Any:\n",
    "        \"\"\"Process attribute access like pl.col or obj.attr.\"\"\"\n",
    "        #TODO rework this\n",
    "        obj = self._process_node(node.value)\n",
    "        attr = node.attr\n",
    "\n",
    "        # Handle pl.col pattern\n",
    "        #if obj == 'pl' and attr == 'col':\n",
    "        #    return 'col'\n",
    "        \n",
    "        #return f\"{obj}.{attr}\"\n",
    "        raise NotImplementedError(f\"{obj}.{attr}: Node type ast.Attribute not supported\")\n",
    "\n",
    "    def _process_compare(self, node: ast.Compare) -> Any:\n",
    "        \"\"\"Process comparison operations and apply filters.\"\"\"\n",
    "        \n",
    "        left = self._process_node(node.left)\n",
    "        \n",
    "        # Handle multiple comparisons\n",
    "        for op, comparator in zip(node.ops, node.comparators):\n",
    "            right = self._process_node(comparator)\n",
    "            expr_node = None\n",
    "            op_type = type(op)\n",
    "\n",
    "            match op_type:\n",
    "                case ast.Eq:\n",
    "                    expr_node = ExpressionNode.compose(left, OperationType.EQ, right)\n",
    "                case ast.NotEq:\n",
    "                    expr_node = ExpressionNode.compose(left, OperationType.NE, right)\n",
    "                case ast.Lt:\n",
    "                    expr_node = ExpressionNode.compose(left, OperationType.LT, right)\n",
    "                case ast.LtE:\n",
    "                    expr_node = ExpressionNode.compose(left, OperationType.LE, right)\n",
    "                case ast.Gt:\n",
    "                    expr_node = ExpressionNode.compose(left, OperationType.GT, right)\n",
    "                case ast.GtE:\n",
    "                    expr_node = ExpressionNode.compose(left, OperationType.GE, right)\n",
    "                case ast.In:\n",
    "                    expr_node = ExpressionNode.compose(left, OperationType.ISIN, right)\n",
    "                case ast.NotIn:\n",
    "                    expr_node = ExpressionNode.compose(left, OperationType.ISNOTIN, right)\n",
    "                case _:\n",
    "                    raise NotImplementedError(f\"Operator {op_type} not supported\")\n",
    "            left = expr_node\n",
    "        \n",
    "        return expr_node\n",
    "\n",
    "    def _process_binop(self, node: ast.BinOp) -> Any:\n",
    "        \"\"\"Process binary operations.\"\"\"\n",
    "        \n",
    "        left = self._process_node(node.left)\n",
    "        \n",
    "        right = self._process_node(node.right)\n",
    "        op_type = type(node.op)\n",
    "\n",
    "        match op_type:\n",
    "            case ast.Add:\n",
    "                return ExpressionNode.compose(left, OperationType.ADD, right)\n",
    "            case ast.Sub:\n",
    "                return ExpressionNode.compose(left, OperationType.SUB, right)\n",
    "            case ast.Mult:\n",
    "                return ExpressionNode.compose(left, OperationType.MUL, right)\n",
    "            case ast.Div:\n",
    "                return ExpressionNode.compose(left, OperationType.DIV, right)\n",
    "            # TODO: operator & and | can be used for boolean operations between\n",
    "            # filters, or bitwise operations between integers values. The current\n",
    "            # implementation supports boolean operations only (which should be\n",
    "            # the most common case)\n",
    "            case ast.BitOr:\n",
    "                return ExpressionNode.compose(left, OperationType.OR, right)\n",
    "            case ast.BitAnd:\n",
    "                return ExpressionNode.compose(left, OperationType.AND, right)\n",
    "            case _:\n",
    "                raise NotImplementedError(f\"Operator {op_type} not supported\")\n",
    "    \n",
    "    def _process_unaryop(self, node: ast.UnaryOp) -> Any:\n",
    "        \"\"\"Process unary operations.\"\"\"\n",
    "        \n",
    "        operand = self._process_node(node.operand)\n",
    "        op_type = type(node.op)\n",
    "\n",
    "        match op_type:\n",
    "            case ast.Invert:\n",
    "                return ExpressionNode.compose(operand, OperationType.NOT, None)\n",
    "            case ast.USub:\n",
    "                return ExpressionNode.compose(operand, OperationType.NEG, None)\n",
    "            case _:\n",
    "                raise NotImplementedError(f\"Operator {op_type} not supported\")\n",
    "            \n",
    "        return None"
   ]
  },
  {
   "cell_type": "code",
   "execution_count": 10,
   "id": "ea771eba-d179-4e5a-8304-a91e429c355c",
   "metadata": {},
   "outputs": [],
   "source": [
    "translator = PolarsToArcticDBTranslator()"
   ]
  },
  {
   "cell_type": "code",
   "execution_count": 11,
   "id": "6a498e7d-d46d-4742-abf9-8c41b07de685",
   "metadata": {},
   "outputs": [],
   "source": [
    "qb = QueryBuilder()\n",
    "qb = translator.translate(str(pl.col(\"col1\") > 2), qb)"
   ]
  },
  {
   "cell_type": "code",
   "execution_count": 12,
   "id": "0869ed81-f0c1-4cc8-898a-1c9a24eaf4fa",
   "metadata": {},
   "outputs": [
    {
     "name": "stdout",
     "output_type": "stream",
     "text": [
      "shape: (7, 2)\n",
      "┌──────┬──────┐\n",
      "│ col1 ┆ col2 │\n",
      "│ ---  ┆ ---  │\n",
      "│ i64  ┆ f64  │\n",
      "╞══════╪══════╡\n",
      "│ 3    ┆ 13.0 │\n",
      "│ 4    ┆ 14.0 │\n",
      "│ 5    ┆ 15.0 │\n",
      "│ 6    ┆ 16.0 │\n",
      "│ 7    ┆ 17.0 │\n",
      "│ 8    ┆ 18.0 │\n",
      "│ 9    ┆ 19.0 │\n",
      "└──────┴──────┘\n"
     ]
    }
   ],
   "source": [
    "lazy_frame2 = lib.read(test_symbol, query_builder = qb, output_format=OutputFormat.EXPERIMENTAL_ARROW, lazy = True)\n",
    "print_table(lazy_frame2.collect().data)"
   ]
  },
  {
   "cell_type": "code",
   "execution_count": 13,
   "id": "cc10029a-bda5-46e6-b577-65d660a5fe28",
   "metadata": {},
   "outputs": [
    {
     "data": {
      "text/plain": [
       "True"
      ]
     },
     "execution_count": 13,
     "metadata": {},
     "output_type": "execute_result"
    }
   ],
   "source": [
    "qb = QueryBuilder()\n",
    "qb = translator.translate(str((pl.col(\"col1\") > 2) & (pl.col(\"col2\") < 18)), qb)\n",
    "\n",
    "qe = QueryBuilder()\n",
    "qe = qe[(qe[\"col1\"] > 2) & (qe[\"col2\"] < 18)]\n",
    "qb == qe"
   ]
  },
  {
   "cell_type": "code",
   "execution_count": 14,
   "id": "51ddac44-bb3e-473d-9829-3fde0985ae3a",
   "metadata": {},
   "outputs": [
    {
     "data": {
      "text/plain": [
       "True"
      ]
     },
     "execution_count": 14,
     "metadata": {},
     "output_type": "execute_result"
    }
   ],
   "source": [
    "qb = QueryBuilder()\n",
    "qb = translator.translate(str(pl.col(\"col2\") + pl.col(\"col2\") + pl.col(\"col2\")), qb)\n",
    "\n",
    "qe = QueryBuilder()\n",
    "qe = qe[qe[\"col2\"] + qe[\"col2\"] + qe[\"col2\"]]\n",
    "qb == qe"
   ]
  },
  {
   "cell_type": "code",
   "execution_count": 15,
   "id": "129466ff-9c4d-4153-aee4-55c15a7a7d68",
   "metadata": {},
   "outputs": [
    {
     "ename": "NotImplementedError",
     "evalue": "Column[\"height\"].pow2: Node type ast.Attribute not supported",
     "output_type": "error",
     "traceback": [
      "\u001b[31m---------------------------------------------------------------------------\u001b[39m",
      "\u001b[31mNotImplementedError\u001b[39m                       Traceback (most recent call last)",
      "\u001b[36mCell\u001b[39m\u001b[36m \u001b[39m\u001b[32mIn[15]\u001b[39m\u001b[32m, line 3\u001b[39m\n\u001b[32m      1\u001b[39m bmi_expr = pl.col(\u001b[33m\"\u001b[39m\u001b[33mweight\u001b[39m\u001b[33m\"\u001b[39m) / (pl.col(\u001b[33m\"\u001b[39m\u001b[33mheight\u001b[39m\u001b[33m\"\u001b[39m) ** \u001b[32m2\u001b[39m)\n\u001b[32m      2\u001b[39m qb = QueryBuilder()\n\u001b[32m----> \u001b[39m\u001b[32m3\u001b[39m qb = \u001b[43mtranslator\u001b[49m\u001b[43m.\u001b[49m\u001b[43mtranslate\u001b[49m\u001b[43m(\u001b[49m\u001b[38;5;28;43mstr\u001b[39;49m\u001b[43m(\u001b[49m\u001b[43mbmi_expr\u001b[49m\u001b[43m)\u001b[49m\u001b[43m,\u001b[49m\u001b[43m \u001b[49m\u001b[43mqb\u001b[49m\u001b[43m)\u001b[49m\n",
      "\u001b[36mCell\u001b[39m\u001b[36m \u001b[39m\u001b[32mIn[9]\u001b[39m\u001b[32m, line 40\u001b[39m, in \u001b[36mPolarsToArcticDBTranslator.translate\u001b[39m\u001b[34m(self, polars_expr, query_builder)\u001b[39m\n\u001b[32m     38\u001b[39m \u001b[38;5;28;01mtry\u001b[39;00m:\n\u001b[32m     39\u001b[39m     tree = ast.parse(expr, mode=\u001b[33m'\u001b[39m\u001b[33meval\u001b[39m\u001b[33m'\u001b[39m)\n\u001b[32m---> \u001b[39m\u001b[32m40\u001b[39m     expr_node = \u001b[38;5;28;43mself\u001b[39;49m\u001b[43m.\u001b[49m\u001b[43m_process_node\u001b[49m\u001b[43m(\u001b[49m\u001b[43mtree\u001b[49m\u001b[43m.\u001b[49m\u001b[43mbody\u001b[49m\u001b[43m)\u001b[49m\n\u001b[32m     41\u001b[39m \u001b[38;5;28;01mexcept\u001b[39;00m \u001b[38;5;167;01mSyntaxError\u001b[39;00m \u001b[38;5;28;01mas\u001b[39;00m e:\n\u001b[32m     42\u001b[39m     \u001b[38;5;28;01mraise\u001b[39;00m \u001b[38;5;167;01mValueError\u001b[39;00m(\u001b[33mf\u001b[39m\u001b[33m\"\u001b[39m\u001b[33mInvalid Polars expression: \u001b[39m\u001b[38;5;132;01m{\u001b[39;00mpolars_expr\u001b[38;5;132;01m}\u001b[39;00m\u001b[33m\"\u001b[39m) \u001b[38;5;28;01mfrom\u001b[39;00m\u001b[38;5;250m \u001b[39m\u001b[34;01me\u001b[39;00m\n",
      "\u001b[36mCell\u001b[39m\u001b[36m \u001b[39m\u001b[32mIn[9]\u001b[39m\u001b[32m, line 88\u001b[39m, in \u001b[36mPolarsToArcticDBTranslator._process_node\u001b[39m\u001b[34m(self, node)\u001b[39m\n\u001b[32m     86\u001b[39m     \u001b[38;5;28;01mreturn\u001b[39;00m \u001b[38;5;28mself\u001b[39m._process_compare(node)\n\u001b[32m     87\u001b[39m \u001b[38;5;28;01mcase\u001b[39;00m ast.BinOp:\n\u001b[32m---> \u001b[39m\u001b[32m88\u001b[39m     \u001b[38;5;28;01mreturn\u001b[39;00m \u001b[38;5;28;43mself\u001b[39;49m\u001b[43m.\u001b[49m\u001b[43m_process_binop\u001b[49m\u001b[43m(\u001b[49m\u001b[43mnode\u001b[49m\u001b[43m)\u001b[49m\n\u001b[32m     89\u001b[39m \u001b[38;5;28;01mcase\u001b[39;00m ast.UnaryOp:\n\u001b[32m     90\u001b[39m     \u001b[38;5;28;01mreturn\u001b[39;00m \u001b[38;5;28mself\u001b[39m._process_unaryop(node)\n",
      "\u001b[36mCell\u001b[39m\u001b[36m \u001b[39m\u001b[32mIn[9]\u001b[39m\u001b[32m, line 176\u001b[39m, in \u001b[36mPolarsToArcticDBTranslator._process_binop\u001b[39m\u001b[34m(self, node)\u001b[39m\n\u001b[32m    172\u001b[39m \u001b[38;5;250m\u001b[39m\u001b[33;03m\"\"\"Process binary operations.\"\"\"\u001b[39;00m\n\u001b[32m    174\u001b[39m left = \u001b[38;5;28mself\u001b[39m._process_node(node.left)\n\u001b[32m--> \u001b[39m\u001b[32m176\u001b[39m right = \u001b[38;5;28;43mself\u001b[39;49m\u001b[43m.\u001b[49m\u001b[43m_process_node\u001b[49m\u001b[43m(\u001b[49m\u001b[43mnode\u001b[49m\u001b[43m.\u001b[49m\u001b[43mright\u001b[49m\u001b[43m)\u001b[49m\n\u001b[32m    177\u001b[39m op_type = \u001b[38;5;28mtype\u001b[39m(node.op)\n\u001b[32m    179\u001b[39m \u001b[38;5;28;01mmatch\u001b[39;00m op_type:\n",
      "\u001b[36mCell\u001b[39m\u001b[36m \u001b[39m\u001b[32mIn[9]\u001b[39m\u001b[32m, line 80\u001b[39m, in \u001b[36mPolarsToArcticDBTranslator._process_node\u001b[39m\u001b[34m(self, node)\u001b[39m\n\u001b[32m     78\u001b[39m     \u001b[38;5;28;01mreturn\u001b[39;00m \u001b[38;5;28mself\u001b[39m._process_call(node)\n\u001b[32m     79\u001b[39m \u001b[38;5;28;01mcase\u001b[39;00m ast.Attribute:\n\u001b[32m---> \u001b[39m\u001b[32m80\u001b[39m     \u001b[38;5;28;01mreturn\u001b[39;00m \u001b[38;5;28;43mself\u001b[39;49m\u001b[43m.\u001b[49m\u001b[43m_process_attribute\u001b[49m\u001b[43m(\u001b[49m\u001b[43mnode\u001b[49m\u001b[43m)\u001b[49m\n\u001b[32m     81\u001b[39m \u001b[38;5;28;01mcase\u001b[39;00m ast.Name:\n\u001b[32m     82\u001b[39m     \u001b[38;5;28;01mreturn\u001b[39;00m node.id\n",
      "\u001b[36mCell\u001b[39m\u001b[36m \u001b[39m\u001b[32mIn[9]\u001b[39m\u001b[32m, line 135\u001b[39m, in \u001b[36mPolarsToArcticDBTranslator._process_attribute\u001b[39m\u001b[34m(self, node)\u001b[39m\n\u001b[32m    128\u001b[39m attr = node.attr\n\u001b[32m    130\u001b[39m \u001b[38;5;66;03m# Handle pl.col pattern\u001b[39;00m\n\u001b[32m    131\u001b[39m \u001b[38;5;66;03m#if obj == 'pl' and attr == 'col':\u001b[39;00m\n\u001b[32m    132\u001b[39m \u001b[38;5;66;03m#    return 'col'\u001b[39;00m\n\u001b[32m    133\u001b[39m \n\u001b[32m    134\u001b[39m \u001b[38;5;66;03m#return f\"{obj}.{attr}\"\u001b[39;00m\n\u001b[32m--> \u001b[39m\u001b[32m135\u001b[39m \u001b[38;5;28;01mraise\u001b[39;00m \u001b[38;5;167;01mNotImplementedError\u001b[39;00m(\u001b[33mf\u001b[39m\u001b[33m\"\u001b[39m\u001b[38;5;132;01m{\u001b[39;00mobj\u001b[38;5;132;01m}\u001b[39;00m\u001b[33m.\u001b[39m\u001b[38;5;132;01m{\u001b[39;00mattr\u001b[38;5;132;01m}\u001b[39;00m\u001b[33m: Node type ast.Attribute not supported\u001b[39m\u001b[33m\"\u001b[39m)\n",
      "\u001b[31mNotImplementedError\u001b[39m: Column[\"height\"].pow2: Node type ast.Attribute not supported"
     ]
    }
   ],
   "source": [
    "bmi_expr = pl.col(\"weight\") / (pl.col(\"height\") ** 2)\n",
    "qb = QueryBuilder()\n",
    "qb = translator.translate(str(bmi_expr), qb)"
   ]
  },
  {
   "cell_type": "markdown",
   "id": "49809451-2556-47b5-8950-b88ecb30ef1e",
   "metadata": {},
   "source": [
    "## Polars Plugin"
   ]
  },
  {
   "cell_type": "code",
   "execution_count": 16,
   "id": "f3ce536b-6643-432e-badc-49e49da0bbe1",
   "metadata": {},
   "outputs": [],
   "source": [
    "def parse_schema(\n",
    "    lib: Library,\n",
    "    symbol: str,\n",
    "    as_of: int | str | dt.datetime | None = None\n",
    ") -> pl.Schema:\n",
    "    arrow_df = lib.read(symbol, as_of=as_of, output_format=OutputFormat.EXPERIMENTAL_ARROW, row_range=((0,1))).data\n",
    "    return pl.Schema(arrow_df.schema) "
   ]
  },
  {
   "cell_type": "code",
   "execution_count": 17,
   "id": "66ff39bc-12fa-4c94-9fdd-719b2be3219a",
   "metadata": {},
   "outputs": [],
   "source": [
    "def scan_arcticdb(\n",
    "    uri: str,\n",
    "    lib_name: str,\n",
    "    symbol: str,\n",
    "    as_of: int | str | dt.datetime | None = None\n",
    ") -> pl.LazyFrame:\n",
    "\n",
    "    ac = Arctic(uri)\n",
    "    lib = ac.get_library(lib_name)\n",
    "\n",
    "    schema = parse_schema(lib, symbol, as_of)\n",
    "\n",
    "    def source_generator(\n",
    "        with_columns: list[str] | None,\n",
    "        predicate: pl.Expr | None,\n",
    "        n_rows: int | None,\n",
    "        batch_size: int | None\n",
    "    ) -> Iterator[pl.DataFrame]:\n",
    "        if predicate is not None:\n",
    "            print(str(predicate))\n",
    "        else:\n",
    "            print(\"No Predicate\")\n",
    "\n",
    "        if with_columns:\n",
    "            print(with_columns)\n",
    "        else:\n",
    "            print(\"No column\")\n",
    "\n",
    "        qb = None\n",
    "        if predicate is not None:\n",
    "            tl = PolarsToArcticDBTranslator()\n",
    "            qb = QueryBuilder()\n",
    "            qb = tl.translate(str(predicate), qb)\n",
    "            \n",
    "        # TODO: convert predicate to QueryBuilder and pass it to read\n",
    "        lazy_df = lib.read(symbol, as_of = as_of, columns = with_columns, query_builder = qb, lazy = True, output_format=OutputFormat.EXPERIMENTAL_ARROW)\n",
    "\n",
    "        if batch_size is None:\n",
    "            batch_size = 1000\n",
    "\n",
    "        if n_rows is not None:\n",
    "            batch_size = min(batch_size, n_rows)\n",
    "        \n",
    "        read_idx = 0\n",
    "        while n_rows is None or n_rows > 0:\n",
    "            lazy_df_slice = lazy_df.row_range((read_idx, read_idx + batch_size))\n",
    "            read_idx += batch_size\n",
    "            arrow_df = lazy_df_slice.collect().data\n",
    "            if n_rows is not None:\n",
    "                n_rows -= arrow_df.num_rows\n",
    "            elif arrow_df.num_rows < batch_size:\n",
    "                n_rows = 0\n",
    "\n",
    "            yield pl.from_arrow(arrow_df)\n",
    "\n",
    "    return pl.io.plugins.register_io_source(io_source=source_generator, schema = schema)    "
   ]
  },
  {
   "cell_type": "markdown",
   "id": "b079c4d7-fe11-4f27-b615-380c7e29a128",
   "metadata": {},
   "source": [
    "## Plugin tests"
   ]
  },
  {
   "cell_type": "code",
   "execution_count": 18,
   "id": "65870e4c-58a8-4482-8f76-489f14935a03",
   "metadata": {},
   "outputs": [
    {
     "name": "stderr",
     "output_type": "stream",
     "text": [
      "20251017 09:41:36.257244 7417 W arcticdb | LMDB path at /home/yoyo/dev/polars/notebooks/tmp/polars_integration/ has already been opened in this process which is not supported by LMDB. You should only open a single Arctic instance over a given LMDB path. To continue safely, you should delete this Arctic instance and any others over the LMDB path in this process and then try again. Current process ID=[7417]\n"
     ]
    }
   ],
   "source": [
    "pl_frame = scan_arcticdb(test_uri, test_lib_name, test_symbol)"
   ]
  },
  {
   "cell_type": "code",
   "execution_count": 19,
   "id": "bb004f60-21b1-4be8-9c09-1a6bf96f06b0",
   "metadata": {},
   "outputs": [
    {
     "name": "stdout",
     "output_type": "stream",
     "text": [
      "No Predicate\n",
      "No column\n"
     ]
    },
    {
     "data": {
      "text/html": [
       "<div><style>\n",
       ".dataframe > thead > tr,\n",
       ".dataframe > tbody > tr {\n",
       "  text-align: right;\n",
       "  white-space: pre-wrap;\n",
       "}\n",
       "</style>\n",
       "<small>shape: (10, 2)</small><table border=\"1\" class=\"dataframe\"><thead><tr><th>col1</th><th>col2</th></tr><tr><td>i64</td><td>f64</td></tr></thead><tbody><tr><td>0</td><td>10.0</td></tr><tr><td>1</td><td>11.0</td></tr><tr><td>2</td><td>12.0</td></tr><tr><td>3</td><td>13.0</td></tr><tr><td>4</td><td>14.0</td></tr><tr><td>5</td><td>15.0</td></tr><tr><td>6</td><td>16.0</td></tr><tr><td>7</td><td>17.0</td></tr><tr><td>8</td><td>18.0</td></tr><tr><td>9</td><td>19.0</td></tr></tbody></table></div>"
      ],
      "text/plain": [
       "shape: (10, 2)\n",
       "┌──────┬──────┐\n",
       "│ col1 ┆ col2 │\n",
       "│ ---  ┆ ---  │\n",
       "│ i64  ┆ f64  │\n",
       "╞══════╪══════╡\n",
       "│ 0    ┆ 10.0 │\n",
       "│ 1    ┆ 11.0 │\n",
       "│ 2    ┆ 12.0 │\n",
       "│ 3    ┆ 13.0 │\n",
       "│ 4    ┆ 14.0 │\n",
       "│ 5    ┆ 15.0 │\n",
       "│ 6    ┆ 16.0 │\n",
       "│ 7    ┆ 17.0 │\n",
       "│ 8    ┆ 18.0 │\n",
       "│ 9    ┆ 19.0 │\n",
       "└──────┴──────┘"
      ]
     },
     "execution_count": 19,
     "metadata": {},
     "output_type": "execute_result"
    }
   ],
   "source": [
    "pl_frame.collect()"
   ]
  },
  {
   "cell_type": "code",
   "execution_count": 20,
   "id": "e01886b1-cd91-4c78-8654-7bcac665ecc1",
   "metadata": {},
   "outputs": [
    {
     "name": "stdout",
     "output_type": "stream",
     "text": [
      "No Predicate\n",
      "['col1', 'col2']\n"
     ]
    },
    {
     "data": {
      "text/html": [
       "<div><style>\n",
       ".dataframe > thead > tr,\n",
       ".dataframe > tbody > tr {\n",
       "  text-align: right;\n",
       "  white-space: pre-wrap;\n",
       "}\n",
       "</style>\n",
       "<small>shape: (10, 1)</small><table border=\"1\" class=\"dataframe\"><thead><tr><th>col1</th></tr><tr><td>f64</td></tr></thead><tbody><tr><td>0.0</td></tr><tr><td>0.090909</td></tr><tr><td>0.166667</td></tr><tr><td>0.230769</td></tr><tr><td>0.285714</td></tr><tr><td>0.333333</td></tr><tr><td>0.375</td></tr><tr><td>0.411765</td></tr><tr><td>0.444444</td></tr><tr><td>0.473684</td></tr></tbody></table></div>"
      ],
      "text/plain": [
       "shape: (10, 1)\n",
       "┌──────────┐\n",
       "│ col1     │\n",
       "│ ---      │\n",
       "│ f64      │\n",
       "╞══════════╡\n",
       "│ 0.0      │\n",
       "│ 0.090909 │\n",
       "│ 0.166667 │\n",
       "│ 0.230769 │\n",
       "│ 0.285714 │\n",
       "│ 0.333333 │\n",
       "│ 0.375    │\n",
       "│ 0.411765 │\n",
       "│ 0.444444 │\n",
       "│ 0.473684 │\n",
       "└──────────┘"
      ]
     },
     "execution_count": 20,
     "metadata": {},
     "output_type": "execute_result"
    }
   ],
   "source": [
    "pl_frame.select(pl.col(\"col1\") / pl.col(\"col2\")).collect()"
   ]
  },
  {
   "cell_type": "code",
   "execution_count": 21,
   "id": "03241e8f-a5be-4f50-8448-ba5a248da62a",
   "metadata": {
    "scrolled": true
   },
   "outputs": [
    {
     "name": "stdout",
     "output_type": "stream",
     "text": [
      "[(col(\"col1\")) > (2)]\n",
      "No column\n"
     ]
    },
    {
     "data": {
      "text/html": [
       "<div><style>\n",
       ".dataframe > thead > tr,\n",
       ".dataframe > tbody > tr {\n",
       "  text-align: right;\n",
       "  white-space: pre-wrap;\n",
       "}\n",
       "</style>\n",
       "<small>shape: (7, 2)</small><table border=\"1\" class=\"dataframe\"><thead><tr><th>col1</th><th>col2</th></tr><tr><td>i64</td><td>f64</td></tr></thead><tbody><tr><td>3</td><td>13.0</td></tr><tr><td>4</td><td>14.0</td></tr><tr><td>5</td><td>15.0</td></tr><tr><td>6</td><td>16.0</td></tr><tr><td>7</td><td>17.0</td></tr><tr><td>8</td><td>18.0</td></tr><tr><td>9</td><td>19.0</td></tr></tbody></table></div>"
      ],
      "text/plain": [
       "shape: (7, 2)\n",
       "┌──────┬──────┐\n",
       "│ col1 ┆ col2 │\n",
       "│ ---  ┆ ---  │\n",
       "│ i64  ┆ f64  │\n",
       "╞══════╪══════╡\n",
       "│ 3    ┆ 13.0 │\n",
       "│ 4    ┆ 14.0 │\n",
       "│ 5    ┆ 15.0 │\n",
       "│ 6    ┆ 16.0 │\n",
       "│ 7    ┆ 17.0 │\n",
       "│ 8    ┆ 18.0 │\n",
       "│ 9    ┆ 19.0 │\n",
       "└──────┴──────┘"
      ]
     },
     "execution_count": 21,
     "metadata": {},
     "output_type": "execute_result"
    }
   ],
   "source": [
    "pl_frame.filter(pl.col(\"col1\") > 2).collect()"
   ]
  },
  {
   "cell_type": "code",
   "execution_count": 22,
   "id": "0e58b071-cdac-4123-a6f9-8f93b108b755",
   "metadata": {},
   "outputs": [
    {
     "name": "stdout",
     "output_type": "stream",
     "text": [
      "[([(col(\"col2\")) < (18.0)]) & ([(col(\"col1\")) > (2)])]\n",
      "No column\n"
     ]
    },
    {
     "data": {
      "text/html": [
       "<div><style>\n",
       ".dataframe > thead > tr,\n",
       ".dataframe > tbody > tr {\n",
       "  text-align: right;\n",
       "  white-space: pre-wrap;\n",
       "}\n",
       "</style>\n",
       "<small>shape: (5, 2)</small><table border=\"1\" class=\"dataframe\"><thead><tr><th>col1</th><th>col2</th></tr><tr><td>i64</td><td>f64</td></tr></thead><tbody><tr><td>3</td><td>13.0</td></tr><tr><td>4</td><td>14.0</td></tr><tr><td>5</td><td>15.0</td></tr><tr><td>6</td><td>16.0</td></tr><tr><td>7</td><td>17.0</td></tr></tbody></table></div>"
      ],
      "text/plain": [
       "shape: (5, 2)\n",
       "┌──────┬──────┐\n",
       "│ col1 ┆ col2 │\n",
       "│ ---  ┆ ---  │\n",
       "│ i64  ┆ f64  │\n",
       "╞══════╪══════╡\n",
       "│ 3    ┆ 13.0 │\n",
       "│ 4    ┆ 14.0 │\n",
       "│ 5    ┆ 15.0 │\n",
       "│ 6    ┆ 16.0 │\n",
       "│ 7    ┆ 17.0 │\n",
       "└──────┴──────┘"
      ]
     },
     "execution_count": 22,
     "metadata": {},
     "output_type": "execute_result"
    }
   ],
   "source": [
    "pl_frame.filter((pl.col(\"col1\") > 2) & (pl.col(\"col2\") < 18)).collect()"
   ]
  },
  {
   "cell_type": "code",
   "execution_count": null,
   "id": "636e077e-ca09-4544-9dac-39d449ce656f",
   "metadata": {},
   "outputs": [],
   "source": []
  }
 ],
 "metadata": {
  "kernelspec": {
   "display_name": "Python 3 (ipykernel)",
   "language": "python",
   "name": "python3"
  },
  "language_info": {
   "codemirror_mode": {
    "name": "ipython",
    "version": 3
   },
   "file_extension": ".py",
   "mimetype": "text/x-python",
   "name": "python",
   "nbconvert_exporter": "python",
   "pygments_lexer": "ipython3",
   "version": "3.13.5"
  }
 },
 "nbformat": 4,
 "nbformat_minor": 5
}
